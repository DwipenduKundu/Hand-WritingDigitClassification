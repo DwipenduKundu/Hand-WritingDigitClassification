{
 "cells": [
  {
   "cell_type": "markdown",
   "metadata": {
    "id": "h4Pnr_AmbD8V"
   },
   "source": [
    "**Import Library**"
   ]
  },
  {
   "cell_type": "code",
   "execution_count": 1,
   "metadata": {
    "executionInfo": {
     "elapsed": 4,
     "status": "ok",
     "timestamp": 1685597191276,
     "user": {
      "displayName": "Bishal Mondal",
      "userId": "12604457423950434055"
     },
     "user_tz": -330
    },
    "id": "bQMNYUuDatLw"
   },
   "outputs": [],
   "source": [
    "import pandas as pd"
   ]
  },
  {
   "cell_type": "code",
   "execution_count": 2,
   "metadata": {
    "executionInfo": {
     "elapsed": 3,
     "status": "ok",
     "timestamp": 1685597194671,
     "user": {
      "displayName": "Bishal Mondal",
      "userId": "12604457423950434055"
     },
     "user_tz": -330
    },
    "id": "X3r999hya_Lk"
   },
   "outputs": [],
   "source": [
    "import numpy as np"
   ]
  },
  {
   "cell_type": "code",
   "execution_count": 3,
   "metadata": {
    "executionInfo": {
     "elapsed": 4,
     "status": "ok",
     "timestamp": 1685597204101,
     "user": {
      "displayName": "Bishal Mondal",
      "userId": "12604457423950434055"
     },
     "user_tz": -330
    },
    "id": "OeYziVG3bB11"
   },
   "outputs": [],
   "source": [
    "import matplotlib.pyplot as plt"
   ]
  },
  {
   "cell_type": "markdown",
   "metadata": {
    "id": "eFkHGhI2bPww"
   },
   "source": [
    "**Import Data**"
   ]
  },
  {
   "cell_type": "code",
   "execution_count": 4,
   "metadata": {
    "executionInfo": {
     "elapsed": 1623,
     "status": "ok",
     "timestamp": 1685597283440,
     "user": {
      "displayName": "Bishal Mondal",
      "userId": "12604457423950434055"
     },
     "user_tz": -330
    },
    "id": "zEscSFv3bMib"
   },
   "outputs": [],
   "source": [
    "from sklearn.datasets import load_digits"
   ]
  },
  {
   "cell_type": "code",
   "execution_count": 5,
   "metadata": {
    "executionInfo": {
     "elapsed": 510,
     "status": "ok",
     "timestamp": 1685597302278,
     "user": {
      "displayName": "Bishal Mondal",
      "userId": "12604457423950434055"
     },
     "user_tz": -330
    },
    "id": "RQBLyEURbXtT"
   },
   "outputs": [],
   "source": [
    "df = load_digits()"
   ]
  },
  {
   "cell_type": "code",
   "execution_count": 6,
   "metadata": {
    "colab": {
     "base_uri": "https://localhost:8080/",
     "height": 187
    },
    "executionInfo": {
     "elapsed": 903,
     "status": "ok",
     "timestamp": 1685597314933,
     "user": {
      "displayName": "Bishal Mondal",
      "userId": "12604457423950434055"
     },
     "user_tz": -330
    },
    "id": "01HhBrolbchh",
    "outputId": "369af349-2cd4-4d4b-bcdf-2ddd4e446d16"
   },
   "outputs": [
    {
     "data": {
      "image/png": "[encoded data removed]",
      "text/plain": [
       "<Figure size 1000x300 with 4 Axes>"
      ]
     },
     "metadata": {},
     "output_type": "display_data"
    }
   ],
   "source": [
    "_, axes = plt.subplots(nrows = 1, ncols = 4, figsize = (10,3))\n",
    "for ax, image, label in zip(axes, df.images, df.target):\n",
    "    ax.set_axis_off()\n",
    "    ax.imshow(image, cmap = plt.cm.gray_r, interpolation = \"nearest\")\n",
    "    ax.set_title(\"Training: %i\" % label)"
   ]
  },
  {
   "cell_type": "code",
   "execution_count": 7,
   "metadata": {
    "colab": {
     "base_uri": "https://localhost:8080/"
    },
    "executionInfo": {
     "elapsed": 757,
     "status": "ok",
     "timestamp": 1685597327514,
     "user": {
      "displayName": "Bishal Mondal",
      "userId": "12604457423950434055"
     },
     "user_tz": -330
    },
    "id": "yaMk3yMlbfvy",
    "outputId": "172e1066-367c-4eff-aa21-f1f260cde91e"
   },
   "outputs": [
    {
     "data": {
      "text/plain": [
       "(1797, 8, 8)"
      ]
     },
     "execution_count": 7,
     "metadata": {},
     "output_type": "execute_result"
    }
   ],
   "source": [
    "df.images.shape"
   ]
  },
  {
   "cell_type": "code",
   "execution_count": 8,
   "metadata": {
    "colab": {
     "base_uri": "https://localhost:8080/"
    },
    "executionInfo": {
     "elapsed": 823,
     "status": "ok",
     "timestamp": 1685597339454,
     "user": {
      "displayName": "Bishal Mondal",
      "userId": "12604457423950434055"
     },
     "user_tz": -330
    },
    "id": "pSuI3X-ibhpR",
    "outputId": "f3f8e666-ff72-4150-c00e-0ac8a55a5cd4"
   },
   "outputs": [
    {
     "data": {
      "text/plain": [
       "array([[ 0.,  0.,  5., 13.,  9.,  1.,  0.,  0.],\n",
       "       [ 0.,  0., 13., 15., 10., 15.,  5.,  0.],\n",
       "       [ 0.,  3., 15.,  2.,  0., 11.,  8.,  0.],\n",
       "       [ 0.,  4., 12.,  0.,  0.,  8.,  8.,  0.],\n",
       "       [ 0.,  5.,  8.,  0.,  0.,  9.,  8.,  0.],\n",
       "       [ 0.,  4., 11.,  0.,  1., 12.,  7.,  0.],\n",
       "       [ 0.,  2., 14.,  5., 10., 12.,  0.,  0.],\n",
       "       [ 0.,  0.,  6., 13., 10.,  0.,  0.,  0.]])"
      ]
     },
     "execution_count": 8,
     "metadata": {},
     "output_type": "execute_result"
    }
   ],
   "source": [
    "df.images[0]"
   ]
  },
  {
   "cell_type": "code",
   "execution_count": 9,
   "metadata": {
    "colab": {
     "base_uri": "https://localhost:8080/"
    },
    "executionInfo": {
     "elapsed": 612,
     "status": "ok",
     "timestamp": 1685599734740,
     "user": {
      "displayName": "Bishal Mondal",
      "userId": "12604457423950434055"
     },
     "user_tz": -330
    },
    "id": "ZfP7r2RXbh1x",
    "outputId": "45ebb8e3-c28b-4751-c985-78f3d49f8261"
   },
   "outputs": [
    {
     "data": {
      "text/plain": [
       "(8, 8)"
      ]
     },
     "execution_count": 9,
     "metadata": {},
     "output_type": "execute_result"
    }
   ],
   "source": [
    "df.images[0].shape"
   ]
  },
  {
   "cell_type": "code",
   "execution_count": 10,
   "metadata": {
    "colab": {
     "base_uri": "https://localhost:8080/"
    },
    "executionInfo": {
     "elapsed": 712,
     "status": "ok",
     "timestamp": 1685599755786,
     "user": {
      "displayName": "Bishal Mondal",
      "userId": "12604457423950434055"
     },
     "user_tz": -330
    },
    "id": "Bybnv-qJkwaw",
    "outputId": "08e57483-e97c-40e9-b23a-9b9e628b8dc9"
   },
   "outputs": [
    {
     "data": {
      "text/plain": [
       "1797"
      ]
     },
     "execution_count": 10,
     "metadata": {},
     "output_type": "execute_result"
    }
   ],
   "source": [
    "len(df.images)"
   ]
  },
  {
   "cell_type": "code",
   "execution_count": 11,
   "metadata": {
    "executionInfo": {
     "elapsed": 689,
     "status": "ok",
     "timestamp": 1685599772374,
     "user": {
      "displayName": "Bishal Mondal",
      "userId": "12604457423950434055"
     },
     "user_tz": -330
    },
    "id": "PfO70hU5k0HQ"
   },
   "outputs": [],
   "source": [
    "n_samples = len(df.images)\n",
    "data = df.images.reshape((n_samples, -1))"
   ]
  },
  {
   "cell_type": "code",
   "execution_count": 12,
   "metadata": {
    "colab": {
     "base_uri": "https://localhost:8080/"
    },
    "executionInfo": {
     "elapsed": 808,
     "status": "ok",
     "timestamp": 1685599792136,
     "user": {
      "displayName": "Bishal Mondal",
      "userId": "12604457423950434055"
     },
     "user_tz": -330
    },
    "id": "4LFIm-Kzk5Qw",
    "outputId": "80038fff-2cc6-4ca6-bc3a-4a54e7605333"
   },
   "outputs": [
    {
     "data": {
      "text/plain": [
       "array([ 0.,  0.,  5., 13.,  9.,  1.,  0.,  0.,  0.,  0., 13., 15., 10.,\n",
       "       15.,  5.,  0.,  0.,  3., 15.,  2.,  0., 11.,  8.,  0.,  0.,  4.,\n",
       "       12.,  0.,  0.,  8.,  8.,  0.,  0.,  5.,  8.,  0.,  0.,  9.,  8.,\n",
       "        0.,  0.,  4., 11.,  0.,  1., 12.,  7.,  0.,  0.,  2., 14.,  5.,\n",
       "       10., 12.,  0.,  0.,  0.,  0.,  6., 13., 10.,  0.,  0.,  0.])"
      ]
     },
     "execution_count": 12,
     "metadata": {},
     "output_type": "execute_result"
    }
   ],
   "source": [
    "data[0]"
   ]
  },
  {
   "cell_type": "code",
   "execution_count": 13,
   "metadata": {
    "colab": {
     "base_uri": "https://localhost:8080/"
    },
    "executionInfo": {
     "elapsed": 815,
     "status": "ok",
     "timestamp": 1685599806881,
     "user": {
      "displayName": "Bishal Mondal",
      "userId": "12604457423950434055"
     },
     "user_tz": -330
    },
    "id": "ROqFoRWek9Bi",
    "outputId": "86f50355-3e96-45dc-e46d-79ffef6c969d"
   },
   "outputs": [
    {
     "data": {
      "text/plain": [
       "(64,)"
      ]
     },
     "execution_count": 13,
     "metadata": {},
     "output_type": "execute_result"
    }
   ],
   "source": [
    "data[0].shape"
   ]
  },
  {
   "cell_type": "code",
   "execution_count": 14,
   "metadata": {
    "colab": {
     "base_uri": "https://localhost:8080/"
    },
    "executionInfo": {
     "elapsed": 844,
     "status": "ok",
     "timestamp": 1685599816712,
     "user": {
      "displayName": "Bishal Mondal",
      "userId": "12604457423950434055"
     },
     "user_tz": -330
    },
    "id": "6zfPnFubk_k5",
    "outputId": "d78ebf8e-d6ee-43f4-f50b-fd08bfa6c481"
   },
   "outputs": [
    {
     "data": {
      "text/plain": [
       "(1797, 64)"
      ]
     },
     "execution_count": 14,
     "metadata": {},
     "output_type": "execute_result"
    }
   ],
   "source": [
    "data.shape"
   ]
  },
  {
   "cell_type": "markdown",
   "metadata": {
    "id": "tUv5_oAFlCcn"
   },
   "source": [
    "**Scaling Image data**"
   ]
  },
  {
   "cell_type": "code",
   "execution_count": 15,
   "metadata": {
    "colab": {
     "base_uri": "https://localhost:8080/"
    },
    "executionInfo": {
     "elapsed": 505,
     "status": "ok",
     "timestamp": 1685599863511,
     "user": {
      "displayName": "Bishal Mondal",
      "userId": "12604457423950434055"
     },
     "user_tz": -330
    },
    "id": "BIMiNgWwlJaV",
    "outputId": "6d909c5f-4ff5-4a45-894c-5825bb34dbf9"
   },
   "outputs": [
    {
     "data": {
      "text/plain": [
       "0.0"
      ]
     },
     "execution_count": 15,
     "metadata": {},
     "output_type": "execute_result"
    }
   ],
   "source": [
    "data.min()"
   ]
  },
  {
   "cell_type": "code",
   "execution_count": 16,
   "metadata": {
    "colab": {
     "base_uri": "https://localhost:8080/"
    },
    "executionInfo": {
     "elapsed": 922,
     "status": "ok",
     "timestamp": 1685599875293,
     "user": {
      "displayName": "Bishal Mondal",
      "userId": "12604457423950434055"
     },
     "user_tz": -330
    },
    "id": "tQceE95GlNrk",
    "outputId": "b0d40309-28d3-4ce5-98a0-f369cb7a33a9"
   },
   "outputs": [
    {
     "data": {
      "text/plain": [
       "16.0"
      ]
     },
     "execution_count": 16,
     "metadata": {},
     "output_type": "execute_result"
    }
   ],
   "source": [
    "data.max()"
   ]
  },
  {
   "cell_type": "code",
   "execution_count": 17,
   "metadata": {
    "executionInfo": {
     "elapsed": 792,
     "status": "ok",
     "timestamp": 1685599885125,
     "user": {
      "displayName": "Bishal Mondal",
      "userId": "12604457423950434055"
     },
     "user_tz": -330
    },
    "id": "rVnRRERclNvz"
   },
   "outputs": [],
   "source": [
    "data = data/16"
   ]
  },
  {
   "cell_type": "code",
   "execution_count": 18,
   "metadata": {
    "colab": {
     "base_uri": "https://localhost:8080/"
    },
    "executionInfo": {
     "elapsed": 739,
     "status": "ok",
     "timestamp": 1685599895476,
     "user": {
      "displayName": "Bishal Mondal",
      "userId": "12604457423950434055"
     },
     "user_tz": -330
    },
    "id": "UrCy8lv4lNzJ",
    "outputId": "7532eedb-7150-4c0c-ce05-9ceebf90de44"
   },
   "outputs": [
    {
     "data": {
      "text/plain": [
       "0.0"
      ]
     },
     "execution_count": 18,
     "metadata": {},
     "output_type": "execute_result"
    }
   ],
   "source": [
    "data.min()"
   ]
  },
  {
   "cell_type": "code",
   "execution_count": 19,
   "metadata": {
    "colab": {
     "base_uri": "https://localhost:8080/"
    },
    "executionInfo": {
     "elapsed": 581,
     "status": "ok",
     "timestamp": 1685599908168,
     "user": {
      "displayName": "Bishal Mondal",
      "userId": "12604457423950434055"
     },
     "user_tz": -330
    },
    "id": "nzChRr6wlUwx",
    "outputId": "52ef3660-904f-4c3a-8f1e-d36f7df8678c"
   },
   "outputs": [
    {
     "data": {
      "text/plain": [
       "1.0"
      ]
     },
     "execution_count": 19,
     "metadata": {},
     "output_type": "execute_result"
    }
   ],
   "source": [
    "data.max()"
   ]
  },
  {
   "cell_type": "code",
   "execution_count": 20,
   "metadata": {
    "colab": {
     "base_uri": "https://localhost:8080/"
    },
    "executionInfo": {
     "elapsed": 618,
     "status": "ok",
     "timestamp": 1685599919204,
     "user": {
      "displayName": "Bishal Mondal",
      "userId": "12604457423950434055"
     },
     "user_tz": -330
    },
    "id": "V80_EtNflUzY",
    "outputId": "1673bde1-7bbc-4cbe-f73b-ed0fa45699f5"
   },
   "outputs": [
    {
     "data": {
      "text/plain": [
       "array([0.    , 0.    , 0.3125, 0.8125, 0.5625, 0.0625, 0.    , 0.    ,\n",
       "       0.    , 0.    , 0.8125, 0.9375, 0.625 , 0.9375, 0.3125, 0.    ,\n",
       "       0.    , 0.1875, 0.9375, 0.125 , 0.    , 0.6875, 0.5   , 0.    ,\n",
       "       0.    , 0.25  , 0.75  , 0.    , 0.    , 0.5   , 0.5   , 0.    ,\n",
       "       0.    , 0.3125, 0.5   , 0.    , 0.    , 0.5625, 0.5   , 0.    ,\n",
       "       0.    , 0.25  , 0.6875, 0.    , 0.0625, 0.75  , 0.4375, 0.    ,\n",
       "       0.    , 0.125 , 0.875 , 0.3125, 0.625 , 0.75  , 0.    , 0.    ,\n",
       "       0.    , 0.    , 0.375 , 0.8125, 0.625 , 0.    , 0.    , 0.    ])"
      ]
     },
     "execution_count": 20,
     "metadata": {},
     "output_type": "execute_result"
    }
   ],
   "source": [
    "data[0]"
   ]
  },
  {
   "cell_type": "markdown",
   "metadata": {
    "id": "rwWiBcBJlbNY"
   },
   "source": [
    "**Train Test Split Data**"
   ]
  },
  {
   "cell_type": "code",
   "execution_count": 21,
   "metadata": {
    "executionInfo": {
     "elapsed": 5,
     "status": "ok",
     "timestamp": 1685599962210,
     "user": {
      "displayName": "Bishal Mondal",
      "userId": "12604457423950434055"
     },
     "user_tz": -330
    },
    "id": "GUls14VSlU2G"
   },
   "outputs": [],
   "source": [
    "from sklearn.model_selection import train_test_split"
   ]
  },
  {
   "cell_type": "code",
   "execution_count": 22,
   "metadata": {
    "executionInfo": {
     "elapsed": 838,
     "status": "ok",
     "timestamp": 1685599976857,
     "user": {
      "displayName": "Bishal Mondal",
      "userId": "12604457423950434055"
     },
     "user_tz": -330
    },
    "id": "Sxj9CZz4lU5n"
   },
   "outputs": [],
   "source": [
    "x_train, x_test, y_train, y_test = train_test_split(data,df.target,test_size=0.3)"
   ]
  },
  {
   "cell_type": "code",
   "execution_count": 23,
   "metadata": {
    "colab": {
     "base_uri": "https://localhost:8080/"
    },
    "executionInfo": {
     "elapsed": 506,
     "status": "ok",
     "timestamp": 1685599987818,
     "user": {
      "displayName": "Bishal Mondal",
      "userId": "12604457423950434055"
     },
     "user_tz": -330
    },
    "id": "BhxSKmyPlpGh",
    "outputId": "596754ff-3231-45a2-ecc1-74c74039454e"
   },
   "outputs": [
    {
     "data": {
      "text/plain": [
       "((1257, 64), (540, 64), (1257,), (540,))"
      ]
     },
     "execution_count": 23,
     "metadata": {},
     "output_type": "execute_result"
    }
   ],
   "source": [
    "x_train.shape, x_test.shape, y_train.shape, y_test.shape"
   ]
  },
  {
   "cell_type": "code",
   "execution_count": 24,
   "metadata": {
    "executionInfo": {
     "elapsed": 542,
     "status": "ok",
     "timestamp": 1685600002331,
     "user": {
      "displayName": "Bishal Mondal",
      "userId": "12604457423950434055"
     },
     "user_tz": -330
    },
    "id": "LKGab105lpJa"
   },
   "outputs": [],
   "source": [
    "from sklearn.ensemble import RandomForestClassifier"
   ]
  },
  {
   "cell_type": "code",
   "execution_count": 25,
   "metadata": {
    "executionInfo": {
     "elapsed": 510,
     "status": "ok",
     "timestamp": 1685600015271,
     "user": {
      "displayName": "Bishal Mondal",
      "userId": "12604457423950434055"
     },
     "user_tz": -330
    },
    "id": "urKw1KCqlpMK"
   },
   "outputs": [],
   "source": [
    "rf = RandomForestClassifier()"
   ]
  },
  {
   "cell_type": "code",
   "execution_count": 26,
   "metadata": {
    "colab": {
     "base_uri": "https://localhost:8080/",
     "height": 74
    },
    "executionInfo": {
     "elapsed": 451,
     "status": "ok",
     "timestamp": 1685600023814,
     "user": {
      "displayName": "Bishal Mondal",
      "userId": "12604457423950434055"
     },
     "user_tz": -330
    },
    "id": "XcgSEm10lpPt",
    "outputId": "089d2342-328f-4d2b-c50c-9c52ced3d4c5"
   },
   "outputs": [
    {
     "data": {
      "text/html": [
       "<style>#sk-container-id-1 {color: black;background-color: white;}#sk-container-id-1 pre{padding: 0;}#sk-container-id-1 div.sk-toggleable {background-color: white;}#sk-container-id-1 label.sk-toggleable__label {cursor: pointer;display: block;width: 100%;margin-bottom: 0;padding: 0.3em;box-sizing: border-box;text-align: center;}#sk-container-id-1 label.sk-toggleable__label-arrow:before {content: \"▸\";float: left;margin-right: 0.25em;color: #696969;}#sk-container-id-1 label.sk-toggleable__label-arrow:hover:before {color: black;}#sk-container-id-1 div.sk-estimator:hover label.sk-toggleable__label-arrow:before {color: black;}#sk-container-id-1 div.sk-toggleable__content {max-height: 0;max-width: 0;overflow: hidden;text-align: left;background-color: #f0f8ff;}#sk-container-id-1 div.sk-toggleable__content pre {margin: 0.2em;color: black;border-radius: 0.25em;background-color: #f0f8ff;}#sk-container-id-1 input.sk-toggleable__control:checked~div.sk-toggleable__content {max-height: 200px;max-width: 100%;overflow: auto;}#sk-container-id-1 input.sk-toggleable__control:checked~label.sk-toggleable__label-arrow:before {content: \"▾\";}#sk-container-id-1 div.sk-estimator input.sk-toggleable__control:checked~label.sk-toggleable__label {background-color: #d4ebff;}#sk-container-id-1 div.sk-label input.sk-toggleable__control:checked~label.sk-toggleable__label {background-color: #d4ebff;}#sk-container-id-1 input.sk-hidden--visually {border: 0;clip: rect(1px 1px 1px 1px);clip: rect(1px, 1px, 1px, 1px);height: 1px;margin: -1px;overflow: hidden;padding: 0;position: absolute;width: 1px;}#sk-container-id-1 div.sk-estimator {font-family: monospace;background-color: #f0f8ff;border: 1px dotted black;border-radius: 0.25em;box-sizing: border-box;margin-bottom: 0.5em;}#sk-container-id-1 div.sk-estimator:hover {background-color: #d4ebff;}#sk-container-id-1 div.sk-parallel-item::after {content: \"\";width: 100%;border-bottom: 1px solid gray;flex-grow: 1;}#sk-container-id-1 div.sk-label:hover label.sk-toggleable__label {background-color: #d4ebff;}#sk-container-id-1 div.sk-serial::before {content: \"\";position: absolute;border-left: 1px solid gray;box-sizing: border-box;top: 0;bottom: 0;left: 50%;z-index: 0;}#sk-container-id-1 div.sk-serial {display: flex;flex-direction: column;align-items: center;background-color: white;padding-right: 0.2em;padding-left: 0.2em;position: relative;}#sk-container-id-1 div.sk-item {position: relative;z-index: 1;}#sk-container-id-1 div.sk-parallel {display: flex;align-items: stretch;justify-content: center;background-color: white;position: relative;}#sk-container-id-1 div.sk-item::before, #sk-container-id-1 div.sk-parallel-item::before {content: \"\";position: absolute;border-left: 1px solid gray;box-sizing: border-box;top: 0;bottom: 0;left: 50%;z-index: -1;}#sk-container-id-1 div.sk-parallel-item {display: flex;flex-direction: column;z-index: 1;position: relative;background-color: white;}#sk-container-id-1 div.sk-parallel-item:first-child::after {align-self: flex-end;width: 50%;}#sk-container-id-1 div.sk-parallel-item:last-child::after {align-self: flex-start;width: 50%;}#sk-container-id-1 div.sk-parallel-item:only-child::after {width: 0;}#sk-container-id-1 div.sk-dashed-wrapped {border: 1px dashed gray;margin: 0 0.4em 0.5em 0.4em;box-sizing: border-box;padding-bottom: 0.4em;background-color: white;}#sk-container-id-1 div.sk-label label {font-family: monospace;font-weight: bold;display: inline-block;line-height: 1.2em;}#sk-container-id-1 div.sk-label-container {text-align: center;}#sk-container-id-1 div.sk-container {/* jupyter's `normalize.less` sets `[hidden] { display: none; }` but bootstrap.min.css set `[hidden] { display: none !important; }` so we also need the `!important` here to be able to override the default hidden behavior on the sphinx rendered scikit-learn.org. See: https://github.com/scikit-learn/scikit-learn/issues/21755 */display: inline-block !important;position: relative;}#sk-container-id-1 div.sk-text-repr-fallback {display: none;}</style><div id=\"sk-container-id-1\" class=\"sk-top-container\"><div class=\"sk-text-repr-fallback\"><pre>RandomForestClassifier()</pre><b>In a Jupyter environment, please rerun this cell to show the HTML representation or trust the notebook. <br />On GitHub, the HTML representation is unable to render, please try loading this page with nbviewer.org.</b></div><div class=\"sk-container\" hidden><div class=\"sk-item\"><div class=\"sk-estimator sk-toggleable\"><input class=\"sk-toggleable__control sk-hidden--visually\" id=\"sk-estimator-id-1\" type=\"checkbox\" checked><label for=\"sk-estimator-id-1\" class=\"sk-toggleable__label sk-toggleable__label-arrow\">RandomForestClassifier</label><div class=\"sk-toggleable__content\"><pre>RandomForestClassifier()</pre></div></div></div></div></div>"
      ],
      "text/plain": [
       "RandomForestClassifier()"
      ]
     },
     "execution_count": 26,
     "metadata": {},
     "output_type": "execute_result"
    }
   ],
   "source": [
    "rf.fit(x_train, y_train)"
   ]
  },
  {
   "cell_type": "markdown",
   "metadata": {
    "id": "EhS0ZLG5l6bV"
   },
   "source": [
    "**Predict Test Data**"
   ]
  },
  {
   "cell_type": "code",
   "execution_count": 27,
   "metadata": {
    "executionInfo": {
     "elapsed": 615,
     "status": "ok",
     "timestamp": 1685600094021,
     "user": {
      "displayName": "Bishal Mondal",
      "userId": "12604457423950434055"
     },
     "user_tz": -330
    },
    "id": "KIz2JQY5l32m"
   },
   "outputs": [],
   "source": [
    "y_pred = rf.predict(x_test)"
   ]
  },
  {
   "cell_type": "code",
   "execution_count": 28,
   "metadata": {
    "colab": {
     "base_uri": "https://localhost:8080/"
    },
    "executionInfo": {
     "elapsed": 680,
     "status": "ok",
     "timestamp": 1685600104612,
     "user": {
      "displayName": "Bishal Mondal",
      "userId": "12604457423950434055"
     },
     "user_tz": -330
    },
    "id": "blU1Yf7xl4Bw",
    "outputId": "bfa36e27-9606-467b-9ce3-d017157e7f72"
   },
   "outputs": [
    {
     "data": {
      "text/plain": [
       "array([2, 7, 3, 7, 7, 0, 8, 3, 8, 8, 8, 1, 3, 6, 2, 3, 3, 2, 0, 2, 3, 3,\n",
       "       8, 7, 1, 7, 5, 0, 1, 2, 2, 6, 8, 9, 5, 3, 4, 6, 9, 9, 0, 5, 2, 0,\n",
       "       3, 3, 2, 5, 4, 3, 7, 3, 5, 4, 0, 9, 6, 2, 5, 1, 3, 6, 3, 1, 8, 4,\n",
       "       0, 6, 2, 6, 3, 2, 0, 5, 3, 0, 2, 2, 4, 0, 7, 3, 1, 4, 1, 7, 7, 3,\n",
       "       9, 0, 4, 3, 0, 4, 3, 9, 8, 4, 5, 8, 6, 8, 6, 5, 2, 8, 0, 8, 0, 3,\n",
       "       9, 9, 7, 1, 4, 1, 9, 3, 3, 7, 2, 4, 3, 9, 6, 5, 7, 0, 3, 5, 6, 1,\n",
       "       1, 2, 9, 8, 4, 9, 8, 5, 1, 8, 0, 8, 0, 6, 2, 1, 5, 5, 5, 9, 5, 4,\n",
       "       4, 8, 2, 6, 1, 4, 6, 7, 2, 2, 6, 7, 1, 9, 3, 0, 3, 2, 7, 9, 9, 3,\n",
       "       1, 8, 2, 8, 8, 0, 0, 6, 8, 3, 1, 2, 9, 8, 2, 2, 5, 5, 4, 1, 9, 9,\n",
       "       0, 3, 3, 1, 8, 5, 1, 8, 2, 8, 7, 6, 3, 1, 5, 5, 1, 2, 4, 6, 2, 3,\n",
       "       0, 4, 8, 5, 1, 3, 3, 7, 2, 8, 5, 2, 9, 2, 6, 3, 7, 6, 7, 7, 7, 4,\n",
       "       7, 2, 3, 7, 6, 1, 4, 6, 3, 8, 4, 9, 9, 8, 4, 9, 4, 8, 3, 6, 7, 1,\n",
       "       0, 2, 8, 6, 3, 7, 7, 3, 2, 1, 2, 1, 8, 7, 2, 9, 3, 0, 7, 8, 0, 4,\n",
       "       2, 6, 2, 9, 1, 5, 8, 6, 3, 8, 1, 2, 7, 5, 0, 6, 4, 3, 5, 0, 9, 5,\n",
       "       5, 0, 8, 7, 4, 7, 8, 9, 6, 9, 8, 3, 0, 5, 4, 7, 9, 3, 0, 2, 8, 8,\n",
       "       0, 0, 4, 9, 6, 4, 1, 5, 9, 1, 9, 2, 0, 8, 1, 5, 1, 6, 3, 5, 5, 2,\n",
       "       3, 3, 3, 4, 7, 4, 1, 7, 1, 7, 7, 1, 6, 2, 5, 6, 3, 9, 1, 7, 1, 1,\n",
       "       8, 2, 7, 8, 8, 7, 5, 1, 7, 8, 5, 5, 8, 3, 3, 7, 2, 1, 7, 5, 9, 6,\n",
       "       3, 7, 1, 4, 0, 8, 6, 1, 1, 2, 7, 0, 3, 3, 4, 1, 1, 0, 1, 2, 0, 9,\n",
       "       5, 2, 8, 5, 5, 7, 0, 6, 9, 6, 4, 3, 4, 8, 8, 5, 2, 2, 7, 7, 4, 6,\n",
       "       9, 3, 3, 0, 5, 1, 4, 5, 4, 1, 1, 7, 5, 6, 1, 4, 5, 5, 9, 6, 5, 0,\n",
       "       2, 0, 2, 8, 2, 4, 0, 5, 9, 6, 9, 6, 7, 8, 5, 1, 0, 6, 2, 5, 6, 9,\n",
       "       9, 0, 7, 6, 7, 5, 3, 3, 8, 4, 8, 5, 4, 9, 7, 6, 8, 4, 4, 6, 9, 2,\n",
       "       7, 1, 5, 2, 3, 6, 0, 4, 4, 6, 0, 4, 4, 6, 3, 8, 0, 7, 7, 8, 8, 2,\n",
       "       7, 9, 1, 9, 9, 6, 0, 0, 7, 5, 7, 6])"
      ]
     },
     "execution_count": 28,
     "metadata": {},
     "output_type": "execute_result"
    }
   ],
   "source": [
    "y_pred"
   ]
  },
  {
   "cell_type": "code",
   "execution_count": 29,
   "metadata": {
    "executionInfo": {
     "elapsed": 549,
     "status": "ok",
     "timestamp": 1685600118289,
     "user": {
      "displayName": "Bishal Mondal",
      "userId": "12604457423950434055"
     },
     "user_tz": -330
    },
    "id": "vABb-n8jl4KX"
   },
   "outputs": [],
   "source": [
    "from sklearn.metrics import confusion_matrix,classification_report"
   ]
  },
  {
   "cell_type": "code",
   "execution_count": 30,
   "metadata": {
    "colab": {
     "base_uri": "https://localhost:8080/"
    },
    "executionInfo": {
     "elapsed": 1000,
     "status": "ok",
     "timestamp": 1685600128019,
     "user": {
      "displayName": "Bishal Mondal",
      "userId": "12604457423950434055"
     },
     "user_tz": -330
    },
    "id": "2rLpMrPol4Sy",
    "outputId": "a151e281-65b9-447b-a9b9-28c9188923b7"
   },
   "outputs": [
    {
     "data": {
      "text/plain": [
       "array([[49,  0,  0,  0,  0,  0,  0,  0,  0,  0],\n",
       "       [ 0, 53,  0,  0,  0,  1,  0,  0,  0,  0],\n",
       "       [ 0,  1, 55,  0,  0,  0,  0,  0,  0,  0],\n",
       "       [ 0,  0,  1, 60,  0,  1,  0,  2,  0,  1],\n",
       "       [ 0,  0,  0,  0, 48,  0,  0,  1,  1,  0],\n",
       "       [ 0,  0,  0,  0,  0, 53,  0,  0,  0,  0],\n",
       "       [ 0,  0,  0,  0,  0,  0, 51,  0,  0,  0],\n",
       "       [ 0,  0,  0,  0,  0,  0,  0, 53,  1,  1],\n",
       "       [ 0,  0,  1,  1,  0,  0,  0,  1, 55,  0],\n",
       "       [ 0,  0,  0,  2,  0,  0,  0,  1,  1, 45]])"
      ]
     },
     "execution_count": 30,
     "metadata": {},
     "output_type": "execute_result"
    }
   ],
   "source": [
    "confusion_matrix(y_test,y_pred)"
   ]
  },
  {
   "cell_type": "code",
   "execution_count": 31,
   "metadata": {
    "colab": {
     "base_uri": "https://localhost:8080/"
    },
    "executionInfo": {
     "elapsed": 497,
     "status": "ok",
     "timestamp": 1685600143787,
     "user": {
      "displayName": "Bishal Mondal",
      "userId": "12604457423950434055"
     },
     "user_tz": -330
    },
    "id": "OcIe2sa6mOVt",
    "outputId": "74eb211c-4fef-4e1e-d95f-d5ada6712740"
   },
   "outputs": [
    {
     "name": "stdout",
     "output_type": "stream",
     "text": [
      "              precision    recall  f1-score   support\n",
      "\n",
      "           0       1.00      1.00      1.00        49\n",
      "           1       0.98      0.98      0.98        54\n",
      "           2       0.96      0.98      0.97        56\n",
      "           3       0.95      0.92      0.94        65\n",
      "           4       1.00      0.96      0.98        50\n",
      "           5       0.96      1.00      0.98        53\n",
      "           6       1.00      1.00      1.00        51\n",
      "           7       0.91      0.96      0.94        55\n",
      "           8       0.95      0.95      0.95        58\n",
      "           9       0.96      0.92      0.94        49\n",
      "\n",
      "    accuracy                           0.97       540\n",
      "   macro avg       0.97      0.97      0.97       540\n",
      "weighted avg       0.97      0.97      0.97       540\n",
      "\n"
     ]
    }
   ],
   "source": [
    "print(classification_report(y_test, y_pred))"
   ]
  }
 ],
 "metadata": {
  "colab": {
   "authorship_tag": "ABX9TyNbPEHM2HREXlSv3WDdZtZM",
   "provenance": []
  },
  "kernelspec": {
   "display_name": "Python 3 (ipykernel)",
   "language": "python",
   "name": "python3"
  },
  "language_info": {
   "codemirror_mode": {
    "name": "ipython",
    "version": 3
   },
   "file_extension": ".py",
   "mimetype": "text/x-python",
   "name": "python",
   "nbconvert_exporter": "python",
   "pygments_lexer": "ipython3",
   "version": "3.9.12"
  }
 },
 "nbformat": 4,
 "nbformat_minor": 1
}
